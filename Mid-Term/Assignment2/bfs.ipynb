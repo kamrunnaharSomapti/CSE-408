{
 "cells": [
  {
   "cell_type": "code",
   "execution_count": 8,
   "id": "6505c630",
   "metadata": {},
   "outputs": [],
   "source": [
    "from queue import Queue\n",
    "adj_list ={\n",
    "    \"e\":[\"b\",\"g\"],\n",
    "    \"b\":[\"i\",\"d\",\"f\"],\n",
    "    \"i\":[\"b\",\"a\"],\n",
    "    \"d\":[\"b\",\"a\",\"c\",\"g\"],\n",
    "    \"f\":[\"b\"],\n",
    "    \"a\":[\"i\",\"d\",\"c\"],\n",
    "    \"c\":[\"g\",\"d\",\"a\"],\n",
    "    \"g\":[\"e\",\"d\",\"c\"],\n",
    "}"
   ]
  },
  {
   "cell_type": "code",
   "execution_count": 9,
   "id": "0215492a",
   "metadata": {},
   "outputs": [
    {
     "name": "stdout",
     "output_type": "stream",
     "text": [
      "['b', 'i', 'd', 'f', 'a', 'c', 'g', 'e']\n"
     ]
    }
   ],
   "source": [
    "visited= {}\n",
    "level = {}\n",
    "parents = {}\n",
    "bfs_traversal_output = []\n",
    "queue = Queue()\n",
    "\n",
    "for node in adj_list.keys():\n",
    "    visited[node] = False\n",
    "    parents[node] = None\n",
    "    level[node] = -1\n",
    "    \n",
    "source_node = \"b\"\n",
    "visited[source_node] = True\n",
    "level[source_node] = 0\n",
    "queue.put(source_node)\n",
    "\n",
    "while not queue.empty():\n",
    "    u = queue.get()\n",
    "    bfs_traversal_output.append(u)\n",
    "    \n",
    "    for v in adj_list[u]:\n",
    "        if not visited[v]:\n",
    "            visited[v] = True\n",
    "            parents[v] = u\n",
    "            level[v] = level[u]+1\n",
    "            queue.put(v)\n",
    "print(bfs_traversal_output)            "
   ]
  },
  {
   "cell_type": "code",
   "execution_count": 11,
   "id": "fb8e79df",
   "metadata": {},
   "outputs": [
    {
     "name": "stdout",
     "output_type": "stream",
     "text": [
      "{'A': 0, 'B': 1, 'C': 2, 'D': 1, 'E': 2, 'F': 2, 'G': 3, 'H': 3}\n"
     ]
    }
   ],
   "source": [
    "print(level)"
   ]
  },
  {
   "cell_type": "code",
   "execution_count": 10,
   "id": "1095530b",
   "metadata": {},
   "outputs": [
    {
     "name": "stdout",
     "output_type": "stream",
     "text": [
      "1\n"
     ]
    }
   ],
   "source": [
    "print(level[\"f\"])"
   ]
  },
  {
   "cell_type": "code",
   "execution_count": 11,
   "id": "61bc3859",
   "metadata": {},
   "outputs": [
    {
     "name": "stdout",
     "output_type": "stream",
     "text": [
      "['b', 'd', 'c']\n"
     ]
    }
   ],
   "source": [
    "#shortest path of from any node from source node\n",
    "v = \"c\"\n",
    "path = []\n",
    "while v is not None:\n",
    "    path.append(v)\n",
    "    v = parents[v]\n",
    "path.reverse()\n",
    "print(path)\n",
    "    \n",
    "    "
   ]
  },
  {
   "cell_type": "code",
   "execution_count": null,
   "id": "21ac21c1",
   "metadata": {},
   "outputs": [],
   "source": []
  }
 ],
 "metadata": {
  "kernelspec": {
   "display_name": "Python 3",
   "language": "python",
   "name": "python3"
  },
  "language_info": {
   "codemirror_mode": {
    "name": "ipython",
    "version": 3
   },
   "file_extension": ".py",
   "mimetype": "text/x-python",
   "name": "python",
   "nbconvert_exporter": "python",
   "pygments_lexer": "ipython3",
   "version": "3.8.8"
  }
 },
 "nbformat": 4,
 "nbformat_minor": 5
}
